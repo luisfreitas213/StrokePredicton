{
 "cells": [
  {
   "cell_type": "markdown",
   "metadata": {},
   "source": [
    "# Stroke Predicton - Data Preparation"
   ]
  },
  {
   "cell_type": "markdown",
   "metadata": {},
   "source": [
    "##  Import Python Libraries"
   ]
  },
  {
   "cell_type": "code",
   "execution_count": 1,
   "metadata": {},
   "outputs": [],
   "source": [
    "import pandas as pd\n",
    "import numpy as np\n",
    "from sklearn.compose import ColumnTransformer\n",
    "from sklearn.preprocessing import OneHotEncoder\n",
    "from sklearn.model_selection import train_test_split\n",
    "from imblearn.over_sampling import SMOTE\n",
    "import matplotlib.pyplot as plt\n",
    "from imblearn.over_sampling import BorderlineSMOTE\n",
    "from imblearn.over_sampling import SVMSMOTE\n",
    "from imblearn.over_sampling import ADASYN\n",
    "from imblearn.under_sampling import RandomUnderSampler\n",
    "from imblearn.over_sampling import RandomOverSampler"
   ]
  },
  {
   "cell_type": "markdown",
   "metadata": {},
   "source": [
    "## Import Dataset"
   ]
  },
  {
   "cell_type": "code",
   "execution_count": 2,
   "metadata": {
    "scrolled": true
   },
   "outputs": [
    {
     "name": "stdout",
     "output_type": "stream",
     "text": [
      "       gender   age  hypertension  heart_disease ever_married      work_type  \\\n",
      "id                                                                             \n",
      "9046     Male  67.0             0              1          Yes        Private   \n",
      "51676  Female  61.0             0              0          Yes  Self-employed   \n",
      "31112    Male  80.0             0              1          Yes        Private   \n",
      "60182  Female  49.0             0              0          Yes        Private   \n",
      "1665   Female  79.0             1              0          Yes  Self-employed   \n",
      "\n",
      "      Residence_type  avg_glucose_level   bmi   smoking_status  stroke  \n",
      "id                                                                      \n",
      "9046           Urban             228.69  36.6  formerly smoked       1  \n",
      "51676          Rural             202.21   NaN     never smoked       1  \n",
      "31112          Rural             105.92  32.5     never smoked       1  \n",
      "60182          Urban             171.23  34.4           smokes       1  \n",
      "1665           Rural             174.12  24.0     never smoked       1  \n"
     ]
    }
   ],
   "source": [
    "dataframe = pd.read_csv('healthcare-dataset-stroke-data.csv',index_col=0)\n",
    "print(dataframe.head(5))"
   ]
  },
  {
   "cell_type": "markdown",
   "metadata": {},
   "source": [
    "Attribute Information\n",
    "* 1) id: unique identifier p\n",
    "* 2) gender: \"Male\", \"Female\" or \"Other\"\n",
    "* 3) age: age of the patient\n",
    "* 4) hypertension: 0 if the patient doesn't have hypertension, 1 if the patient has hypertension\n",
    "* 5) heart_disease: 0 if the patient doesn't have any heart diseases, 1 if the patient has a heart disease\n",
    "* 6) ever_married: \"No\" or \"Yes\"\n",
    "* 7) work_type: \"children\", \"Govt_jov\", \"Never_worked\", \"Private\" or \"Self-employed\"\n",
    "* 8) Residence_type: \"Rural\" or \"Urban\"\n",
    "* 9) avg_glucose_level: average glucose level in blood\n",
    "* 10) bmi: body mass index\n",
    "* 11) smoking_status: \"formerly smoked\", \"never smoked\", \"smokes\" or \"Unknown\"*\n",
    "* 12) stroke: 1 if the patient had a stroke or 0 if not\n",
    "* Note: \"Unknown\" in smoking_status means that the information is unavailable for this patient"
   ]
  },
  {
   "cell_type": "markdown",
   "metadata": {},
   "source": [
    "## Nulls"
   ]
  },
  {
   "cell_type": "code",
   "execution_count": 3,
   "metadata": {},
   "outputs": [
    {
     "name": "stdout",
     "output_type": "stream",
     "text": [
      "média do bmi dos individuos que tiveram stroke: 30.5\n",
      "média do bmi dos individuos que não tiveram stroke: 28.8\n",
      "média bmi: 28.89\n"
     ]
    },
    {
     "data": {
      "text/plain": [
       "gender               0\n",
       "age                  0\n",
       "hypertension         0\n",
       "heart_disease        0\n",
       "ever_married         0\n",
       "work_type            0\n",
       "Residence_type       0\n",
       "avg_glucose_level    0\n",
       "bmi                  0\n",
       "smoking_status       0\n",
       "stroke               0\n",
       "dtype: int64"
      ]
     },
     "execution_count": 3,
     "metadata": {},
     "output_type": "execute_result"
    }
   ],
   "source": [
    "media_com = dataframe[dataframe['stroke']==1]\n",
    "print(\"média do bmi dos individuos que tiveram stroke:\", np.round(media_com[\"bmi\"].mean(),1))\n",
    "\n",
    "\n",
    "media_sem = dataframe[dataframe['stroke']==0]\n",
    "print(\"média do bmi dos individuos que não tiveram stroke:\", np.round(media_sem[\"bmi\"].mean(),1))\n",
    "\n",
    "#Substituir missing values pela média dos valores, arredondado a uma casa décimal\n",
    "media_bmi = np.round(dataframe[\"bmi\"].mean(),2)\n",
    "print(\"média bmi: \" + str(media_bmi))\n",
    "dataframe['bmi'] = dataframe['bmi'].fillna(media_bmi)\n",
    "dataframe.isnull().sum()"
   ]
  },
  {
   "cell_type": "markdown",
   "metadata": {},
   "source": [
    "## Get Dummies"
   ]
  },
  {
   "cell_type": "code",
   "execution_count": 4,
   "metadata": {},
   "outputs": [
    {
     "name": "stdout",
     "output_type": "stream",
     "text": [
      "<class 'pandas.core.frame.DataFrame'>\n",
      "Int64Index: 5110 entries, 9046 to 44679\n",
      "Data columns (total 22 columns):\n",
      " #   Column                          Non-Null Count  Dtype  \n",
      "---  ------                          --------------  -----  \n",
      " 0   age                             5110 non-null   float64\n",
      " 1   hypertension                    5110 non-null   int64  \n",
      " 2   heart_disease                   5110 non-null   int64  \n",
      " 3   avg_glucose_level               5110 non-null   float64\n",
      " 4   bmi                             5110 non-null   float64\n",
      " 5   stroke                          5110 non-null   int64  \n",
      " 6   gender_Female                   5110 non-null   uint8  \n",
      " 7   gender_Male                     5110 non-null   uint8  \n",
      " 8   gender_Other                    5110 non-null   uint8  \n",
      " 9   ever_married_No                 5110 non-null   uint8  \n",
      " 10  ever_married_Yes                5110 non-null   uint8  \n",
      " 11  work_type_Govt_job              5110 non-null   uint8  \n",
      " 12  work_type_Never_worked          5110 non-null   uint8  \n",
      " 13  work_type_Private               5110 non-null   uint8  \n",
      " 14  work_type_Self-employed         5110 non-null   uint8  \n",
      " 15  work_type_children              5110 non-null   uint8  \n",
      " 16  Residence_type_Rural            5110 non-null   uint8  \n",
      " 17  Residence_type_Urban            5110 non-null   uint8  \n",
      " 18  smoking_status_Unknown          5110 non-null   uint8  \n",
      " 19  smoking_status_formerly smoked  5110 non-null   uint8  \n",
      " 20  smoking_status_never smoked     5110 non-null   uint8  \n",
      " 21  smoking_status_smokes           5110 non-null   uint8  \n",
      "dtypes: float64(3), int64(3), uint8(16)\n",
      "memory usage: 359.3 KB\n",
      "None\n"
     ]
    }
   ],
   "source": [
    "#Tratamento de dados\n",
    "X = dataframe.dropna(axis = 0, how ='any')\n",
    "X = pd.concat([X,pd.get_dummies(X['gender'], prefix='gender')],axis=1)\n",
    "X = pd.concat([X,pd.get_dummies(X['ever_married'], prefix='ever_married')],axis=1)\n",
    "X = pd.concat([X,pd.get_dummies(X['work_type'], prefix='work_type')],axis=1)\n",
    "X = pd.concat([X,pd.get_dummies(X['Residence_type'], prefix='Residence_type')],axis=1)\n",
    "X = pd.concat([X,pd.get_dummies(X['smoking_status'], prefix='smoking_status')],axis=1)\n",
    "X = X.drop(['gender', 'ever_married', 'work_type', 'Residence_type', 'smoking_status'], axis = 1)\n",
    "df = X[['age',                            \n",
    "    'hypertension',               \n",
    "    'heart_disease',                  \n",
    "    'avg_glucose_level',               \n",
    "    'bmi',                                                   \n",
    "    'gender_Female',                  \n",
    "    'gender_Male',                     \n",
    "    'gender_Other',                      \n",
    "    'ever_married_No',                \n",
    "   'ever_married_Yes',                \n",
    "   'work_type_Govt_job',               \n",
    "   'work_type_Never_worked',         \n",
    "   'work_type_Private',                 \n",
    "   'work_type_Self-employed',          \n",
    "   'work_type_children',              \n",
    "   'Residence_type_Rural',             \n",
    "   'Residence_type_Urban',            \n",
    "   'smoking_status_Unknown',          \n",
    "   'smoking_status_formerly smoked',  \n",
    "   'smoking_status_never smoked',     \n",
    "   'smoking_status_smokes',\n",
    "   'stroke']]\n",
    "\n",
    "print(X.info())"
   ]
  },
  {
   "cell_type": "markdown",
   "metadata": {},
   "source": [
    "## Smoke"
   ]
  },
  {
   "cell_type": "code",
   "execution_count": 5,
   "metadata": {},
   "outputs": [
    {
     "data": {
      "image/png": "[encoded data removed]",
      "text/plain": [
       "<Figure size 432x288 with 1 Axes>"
      ]
     },
     "metadata": {
      "needs_background": "light"
     },
     "output_type": "display_data"
    }
   ],
   "source": [
    "labels = ['age',                            \n",
    "    'hypertension',               \n",
    "    'heart_disease',                  \n",
    "    'avg_glucose_level',               \n",
    "    'bmi',                                                   \n",
    "    'gender_Female',                  \n",
    "    'gender_Male',                     \n",
    "    'gender_Other',                      \n",
    "    'ever_married_No',                \n",
    "   'ever_married_Yes',                \n",
    "   'work_type_Govt_job',               \n",
    "   'work_type_Never_worked',         \n",
    "   'work_type_Private',                 \n",
    "   'work_type_Self-employed',          \n",
    "   'work_type_children',              \n",
    "   'Residence_type_Rural',             \n",
    "   'Residence_type_Urban',            \n",
    "   'smoking_status_Unknown',          \n",
    "   'smoking_status_formerly smoked',  \n",
    "   'smoking_status_never smoked',     \n",
    "   'smoking_status_smokes']\n",
    "df = df.reset_index(drop=True)\n",
    "X = df[labels]\n",
    "y = df['stroke']\n",
    "X_train, X_test, y_train, y_test = train_test_split(X, y, test_size=0.35, random_state=66)\n",
    "X_train = X_train.reset_index(drop=True)\n",
    "y_train = y_train.reset_index(drop=True)\n",
    "X_test = X_test.reset_index(drop=True)\n",
    "y_test = y_test.reset_index(drop=True)\n",
    "sm = RandomOverSampler(sampling_strategy=1)\n",
    "X_train_oversampled, y_train_oversampled = sm.fit_resample(X_train, y_train)\n",
    "under = RandomUnderSampler(sampling_strategy=1)\n",
    "X_train_oversampled, y_train_oversampled = under.fit_resample(X_train_oversampled, y_train_oversampled)\n",
    "\n",
    "df = pd.concat([X_train_oversampled, y_train_oversampled], axis = 1)\n",
    "stroke_1 = df[df['stroke']==1]\n",
    "stroke_1 = stroke_1['stroke'].count()\n",
    "stroke_0 = df[df['stroke']==0]\n",
    "stroke_0 = stroke_0['stroke'].count()\n",
    "\n",
    "objects = ('Stroke 1', 'Stroke 0')\n",
    "Count = [stroke_1, stroke_0]\n",
    "y_pos = np.arange(len(objects))\n",
    "\n",
    "plt.bar(objects, Count)\n",
    "plt.xticks(y_pos, objects)\n",
    "plt.ylabel('Count')\n",
    "plt.title('Stroke (1; 0) Count')\n",
    "\n",
    "for index,data in enumerate(Count):\n",
    "    plt.text(x=index , y =data+1 , s=f\"{data}\" , fontdict=dict(fontsize=20))\n",
    "\n",
    "plt.show()"
   ]
  },
  {
   "cell_type": "markdown",
   "metadata": {},
   "source": [
    "### Write in Csv"
   ]
  },
  {
   "cell_type": "code",
   "execution_count": 6,
   "metadata": {},
   "outputs": [],
   "source": [
    "X_train.to_csv('X_train.csv',index=False)\n",
    "y_train.to_csv('y_train.csv',index=False)\n",
    "X_train_oversampled.to_csv('X_train_oversampled.csv',index=False)\n",
    "y_train_oversampled.to_csv('y_train_oversampled.csv',index=False)\n",
    "X_test.to_csv('X_test.csv',index=False)\n",
    "y_test.to_csv('y_test.csv',index=False)"
   ]
  }
 ],
 "metadata": {
  "kernelspec": {
   "display_name": "Python 3",
   "language": "python",
   "name": "python3"
  },
  "language_info": {
   "codemirror_mode": {
    "name": "ipython",
    "version": 3
   },
   "file_extension": ".py",
   "mimetype": "text/x-python",
   "name": "python",
   "nbconvert_exporter": "python",
   "pygments_lexer": "ipython3",
   "version": "3.8.8"
  }
 },
 "nbformat": 4,
 "nbformat_minor": 4
}
