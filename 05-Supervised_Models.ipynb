{
 "cells": [
  {
   "cell_type": "code",
   "execution_count": 1,
   "id": "needed-spelling",
   "metadata": {},
   "outputs": [],
   "source": [
    "import pandas as pd\n",
    "import numpy as np\n",
    "from sklearn.preprocessing import StandardScaler\n",
    "from sklearn.ensemble import RandomForestClassifier\n",
    "from sklearn.model_selection import RandomizedSearchCV\n",
    "from sklearn.metrics import classification_report, confusion_matrix, accuracy_score, f1_score, roc_auc_score\n",
    "from imblearn.ensemble import BalancedRandomForestClassifier\n",
    "from sklearn.neighbors import KNeighborsClassifier\n",
    "from sklearn import svm\n",
    "\n",
    "X_train = pd.read_csv('X_train.csv')\n",
    "y_train = pd.read_csv('y_train.csv')\n",
    "X_train_oversampled = pd.read_csv('X_train_oversampled.csv')\n",
    "y_train_oversampled = pd.read_csv('y_train_oversampled.csv')\n",
    "X_test = pd.read_csv('X_test.csv')\n",
    "y_test = pd.read_csv('y_test.csv')"
   ]
  },
  {
   "cell_type": "markdown",
   "id": "uniform-event",
   "metadata": {},
   "source": [
    "# Random Forest"
   ]
  },
  {
   "cell_type": "markdown",
   "id": "starting-vanilla",
   "metadata": {},
   "source": [
    "## 1) Standarization"
   ]
  },
  {
   "cell_type": "code",
   "execution_count": 2,
   "id": "monetary-thought",
   "metadata": {},
   "outputs": [],
   "source": [
    "sc = StandardScaler()\n",
    "train_features = sc.fit_transform(X_train_oversampled)\n",
    "train_labels = y_train_oversampled\n",
    "test_features = sc.transform(X_test)\n",
    "test_labels = y_test"
   ]
  },
  {
   "cell_type": "markdown",
   "id": "comprehensive-model",
   "metadata": {},
   "source": [
    "## 2) HiperParameters Otimization"
   ]
  },
  {
   "cell_type": "code",
   "execution_count": 3,
   "id": "adjustable-portugal",
   "metadata": {},
   "outputs": [
    {
     "name": "stdout",
     "output_type": "stream",
     "text": [
      "Parameters currently in use:\n",
      "\n",
      "{'bootstrap': True,\n",
      " 'ccp_alpha': 0.0,\n",
      " 'class_weight': None,\n",
      " 'criterion': 'gini',\n",
      " 'max_depth': None,\n",
      " 'max_features': 'auto',\n",
      " 'max_leaf_nodes': None,\n",
      " 'max_samples': None,\n",
      " 'min_impurity_decrease': 0.0,\n",
      " 'min_impurity_split': None,\n",
      " 'min_samples_leaf': 1,\n",
      " 'min_samples_split': 2,\n",
      " 'min_weight_fraction_leaf': 0.0,\n",
      " 'n_estimators': 100,\n",
      " 'n_jobs': None,\n",
      " 'oob_score': False,\n",
      " 'random_state': 42,\n",
      " 'verbose': 0,\n",
      " 'warm_start': False}\n"
     ]
    }
   ],
   "source": [
    "rf = RandomForestClassifier(random_state = 42)\n",
    "from pprint import pprint\n",
    "# Look at parameters used by our current forest\n",
    "print('Parameters currently in use:\\n')\n",
    "pprint(rf.get_params())"
   ]
  },
  {
   "cell_type": "code",
   "execution_count": 4,
   "id": "orange-syntax",
   "metadata": {},
   "outputs": [
    {
     "name": "stdout",
     "output_type": "stream",
     "text": [
      "{'bootstrap': [True, False],\n",
      " 'max_depth': [10, 20, 30, 40, 50, 60, 70, 80, 90, 100, 110, None],\n",
      " 'max_features': ['auto', 'sqrt'],\n",
      " 'min_samples_leaf': [1, 2, 4],\n",
      " 'min_samples_split': [2, 5, 10],\n",
      " 'n_estimators': [200, 400, 600, 800, 1000, 1200, 1400, 1600, 1800, 2000]}\n"
     ]
    }
   ],
   "source": [
    "# Number of trees in random forest\n",
    "n_estimators = [int(x) for x in np.linspace(start = 200, stop = 2000, num = 10)]\n",
    "# Number of features to consider at every split\n",
    "max_features = ['auto', 'sqrt']\n",
    "# Maximum number of levels in tree\n",
    "max_depth = [int(x) for x in np.linspace(10, 110, num = 11)]\n",
    "max_depth.append(None)\n",
    "# Minimum number of samples required to split a node\n",
    "min_samples_split = [2, 5, 10]\n",
    "# Minimum number of samples required at each leaf node\n",
    "min_samples_leaf = [1, 2, 4]\n",
    "# Method of selecting samples for training each tree\n",
    "bootstrap = [True, False]\n",
    "# Create the random grid\n",
    "random_grid = {'n_estimators': n_estimators,\n",
    "               'max_features': max_features,\n",
    "               'max_depth': max_depth,\n",
    "               'min_samples_split': min_samples_split,\n",
    "               'min_samples_leaf': min_samples_leaf,\n",
    "               'bootstrap': bootstrap}\n",
    "pprint(random_grid)"
   ]
  },
  {
   "cell_type": "code",
   "execution_count": null,
   "id": "military-genetics",
   "metadata": {},
   "outputs": [
    {
     "name": "stdout",
     "output_type": "stream",
     "text": [
      "Fitting 3 folds for each of 100 candidates, totalling 300 fits\n"
     ]
    }
   ],
   "source": [
    "# Use the random grid to search for best hyperparameters\n",
    "# First create the base model to tune\n",
    "rf = RandomForestClassifier()\n",
    "# Random search of parameters, using 3 fold cross validation, \n",
    "# search across 100 different combinations, and use all available cores\n",
    "rf_random = RandomizedSearchCV(estimator = rf,scoring='recall', param_distributions = random_grid, n_iter = 100, cv = 3, verbose=2, random_state=42, n_jobs = -1)\n",
    "# Fit the random search model\n",
    "rf_random.fit(train_features, train_labels)\n",
    "\n",
    "print(\"*******************************************\")\n",
    "print(\"RESULTS\")\n",
    "print(\"*******************************************\")\n",
    "print(\"Best Parameters:\")\n",
    "print(rf_random.best_params_)\n",
    "print(\"\\n*******************************************\")\n",
    "print(\"Best Estimator:\")\n",
    "print(rf_random.best_estimator_)\n",
    "print(\"\\n*******************************************\")\n",
    "print(\"Best Score:\")\n",
    "print(rf_random.best_score_)\n",
    "print(\"\\n*******************************************\")\n"
   ]
  },
  {
   "cell_type": "markdown",
   "id": "raised-festival",
   "metadata": {},
   "source": [
    "## 3) Results"
   ]
  },
  {
   "cell_type": "code",
   "execution_count": null,
   "id": "polyphonic-syria",
   "metadata": {},
   "outputs": [],
   "source": [
    "best_random = rf_random.best_estimator_\n",
    "y_pred = best_random.predict(test_features)\n",
    "\n",
    "print(confusion_matrix(y_test,y_pred))\n",
    "print(classification_report(y_test,y_pred))\n",
    "print(accuracy_score(y_test, y_pred))\n",
    "print(f1_score(y_test, y_pred))\n",
    "print(roc_auc_score(y_test, y_pred))"
   ]
  },
  {
   "cell_type": "markdown",
   "id": "ongoing-joint",
   "metadata": {},
   "source": [
    "# Balanced Random Forest"
   ]
  },
  {
   "cell_type": "markdown",
   "id": "intelligent-virgin",
   "metadata": {},
   "source": [
    "## 1) Standarization"
   ]
  },
  {
   "cell_type": "code",
   "execution_count": null,
   "id": "sealed-robertson",
   "metadata": {},
   "outputs": [],
   "source": [
    "sc = StandardScaler()\n",
    "train_features = sc.fit_transform(X_train)\n",
    "train_labels = y_train\n",
    "test_features = sc.transform(X_test)\n",
    "test_labels = y_test"
   ]
  },
  {
   "cell_type": "markdown",
   "id": "analyzed-algebra",
   "metadata": {},
   "source": [
    "## 2) HiperParameters Otimization"
   ]
  },
  {
   "cell_type": "code",
   "execution_count": null,
   "id": "underlying-steps",
   "metadata": {},
   "outputs": [],
   "source": [
    "rf = BalancedRandomForestClassifier(random_state = 42)\n",
    "from pprint import pprint\n",
    "# Look at parameters used by our current forest\n",
    "print('Parameters currently in use:\\n')\n",
    "pprint(rf.get_params())"
   ]
  },
  {
   "cell_type": "code",
   "execution_count": null,
   "id": "automotive-nigeria",
   "metadata": {},
   "outputs": [],
   "source": [
    "# Number of trees in random forest\n",
    "n_estimators = [int(x) for x in np.linspace(start = 200, stop = 3000, num = 1000)]\n",
    "# Number of features to consider at every split\n",
    "max_features = ['auto', 'sqrt']\n",
    "# Maximum number of levels in tree\n",
    "max_depth = [int(x) for x in np.linspace(10, 110, num = 11)]\n",
    "max_depth.append(None)\n",
    "# Minimum number of samples required to split a node\n",
    "min_samples_split = [2, 5, 10]\n",
    "# Minimum number of samples required at each leaf node\n",
    "min_samples_leaf = [1, 2, 4]\n",
    "# Method of selecting samples for training each tree\n",
    "bootstrap = [True, False]\n",
    "# Create the random grid\n",
    "random_grid = {'n_estimators': n_estimators,\n",
    "               'max_features': max_features,\n",
    "               'max_depth': max_depth,\n",
    "               'min_samples_split': min_samples_split,\n",
    "               'min_samples_leaf': min_samples_leaf,\n",
    "               'bootstrap': bootstrap}\n",
    "pprint(random_grid)"
   ]
  },
  {
   "cell_type": "code",
   "execution_count": null,
   "id": "completed-worcester",
   "metadata": {},
   "outputs": [],
   "source": [
    "# Use the random grid to search for best hyperparameters\n",
    "# First create the base model to tune\n",
    "rf = BalancedRandomForestClassifier()\n",
    "# Random search of parameters, using 3 fold cross validation, \n",
    "# search across 100 different combinations, and use all available cores\n",
    "rf_random = RandomizedSearchCV(estimator = rf,scoring='recall', param_distributions = random_grid, n_iter = 300, cv = 3, verbose=2, random_state=42, n_jobs = -1)\n",
    "# Fit the random search model\n",
    "rf_random.fit(train_features, train_labels)\n",
    "\n",
    "print(\"*******************************************\")\n",
    "print(\"RESULTS\")\n",
    "print(\"*******************************************\")\n",
    "print(\"Best Parameters:\")\n",
    "print(rf_random.best_params_)\n",
    "print(\"\\n*******************************************\")\n",
    "print(\"Best Estimator:\")\n",
    "print(rf_random.best_estimator_)\n",
    "print(\"\\n*******************************************\")\n",
    "print(\"Best Score:\")\n",
    "print(rf_random.best_score_)\n",
    "print(\"\\n*******************************************\")\n"
   ]
  },
  {
   "cell_type": "markdown",
   "id": "decimal-punch",
   "metadata": {},
   "source": [
    "## 3) Results"
   ]
  },
  {
   "cell_type": "code",
   "execution_count": null,
   "id": "delayed-packing",
   "metadata": {},
   "outputs": [],
   "source": [
    "best_random = rf_random.best_estimator_\n",
    "y_pred = best_random.predict(test_features)\n",
    "\n",
    "print(confusion_matrix(y_test,y_pred))\n",
    "print(classification_report(y_test,y_pred))\n",
    "print(accuracy_score(y_test, y_pred))\n",
    "print(f1_score(y_test, y_pred))\n",
    "print(roc_auc_score(y_test, y_pred))"
   ]
  },
  {
   "cell_type": "markdown",
   "id": "paperback-johns",
   "metadata": {},
   "source": [
    "# KNN"
   ]
  },
  {
   "cell_type": "markdown",
   "id": "infrared-qualification",
   "metadata": {},
   "source": [
    "## 1) Standarization"
   ]
  },
  {
   "cell_type": "code",
   "execution_count": null,
   "id": "square-citizenship",
   "metadata": {},
   "outputs": [],
   "source": [
    "sc = StandardScaler()\n",
    "train_features = sc.fit_transform(X_train_oversampled)\n",
    "train_labels = y_train_oversampled\n",
    "test_features = sc.transform(X_test)\n",
    "test_labels = y_test"
   ]
  },
  {
   "cell_type": "markdown",
   "id": "dirty-billy",
   "metadata": {},
   "source": [
    "## 2) HiperParameters Otimization"
   ]
  },
  {
   "cell_type": "code",
   "execution_count": null,
   "id": "broadband-israel",
   "metadata": {},
   "outputs": [],
   "source": [
    "knn = KNeighborsClassifier()\n",
    "from pprint import pprint\n",
    "# Look at parameters used by our current forest\n",
    "print('Parameters currently in use:\\n')\n",
    "pprint(knn.get_params())"
   ]
  },
  {
   "cell_type": "code",
   "execution_count": null,
   "id": "continent-borough",
   "metadata": {},
   "outputs": [],
   "source": [
    "# Number Neighbors\n",
    "n_neighbors = [int(x) for x in np.linspace(start = 2, stop = 250, num = 249)]\n",
    "\n",
    "random_grid = {'n_neighbors': n_neighbors}\n",
    "pprint(random_grid)"
   ]
  },
  {
   "cell_type": "code",
   "execution_count": null,
   "id": "guilty-sydney",
   "metadata": {},
   "outputs": [],
   "source": [
    "# Use the random grid to search for best hyperparameters\n",
    "# First create the base model to tune\n",
    "knn = KNeighborsClassifier()\n",
    "# Random search of parameters, using 3 fold cross validation, \n",
    "# search across 100 different combinations, and use all available cores\n",
    "knn_random = RandomizedSearchCV(estimator = knn,scoring='accuracy', param_distributions = random_grid, n_iter = 249, cv = 3, verbose=2, random_state=42, n_jobs = -1)\n",
    "# Fit the random search model\n",
    "knn_random.fit(train_features, train_labels)\n",
    "\n",
    "print(\"*******************************************\")\n",
    "print(\"RESULTS\")\n",
    "print(\"*******************************************\")\n",
    "print(\"Best Parameters:\")\n",
    "print(knn_random.best_params_)\n",
    "print(\"\\n*******************************************\")\n",
    "print(\"Best Estimator:\")\n",
    "print(knn_random.best_estimator_)\n",
    "print(\"\\n*******************************************\")\n",
    "print(\"Best Score:\")\n",
    "print(knn_random.best_score_)\n",
    "print(\"\\n*******************************************\")\n"
   ]
  },
  {
   "cell_type": "markdown",
   "id": "featured-raleigh",
   "metadata": {},
   "source": [
    "## 3) Results"
   ]
  },
  {
   "cell_type": "code",
   "execution_count": null,
   "id": "humanitarian-oklahoma",
   "metadata": {},
   "outputs": [],
   "source": [
    "best_random = knn_random.best_estimator_\n",
    "y_pred = best_random.predict(test_features)\n",
    "\n",
    "print(confusion_matrix(y_test,y_pred))\n",
    "print(classification_report(y_test,y_pred))\n",
    "print(accuracy_score(y_test, y_pred))\n",
    "print(f1_score(y_test, y_pred))\n",
    "print(roc_auc_score(y_test, y_pred))"
   ]
  }
 ],
 "metadata": {
  "kernelspec": {
   "display_name": "Python 3",
   "language": "python",
   "name": "python3"
  },
  "language_info": {
   "codemirror_mode": {
    "name": "ipython",
    "version": 3
   },
   "file_extension": ".py",
   "mimetype": "text/x-python",
   "name": "python",
   "nbconvert_exporter": "python",
   "pygments_lexer": "ipython3",
   "version": "3.8.8"
  }
 },
 "nbformat": 4,
 "nbformat_minor": 5
}
