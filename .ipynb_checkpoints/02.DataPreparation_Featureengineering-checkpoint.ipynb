{
 "cells": [
  {
   "cell_type": "markdown",
   "metadata": {},
   "source": [
    "# Stroke Predicton - Data Preparation"
   ]
  },
  {
   "cell_type": "markdown",
   "metadata": {},
   "source": [
    "##  Import Python Libraries"
   ]
  },
  {
   "cell_type": "code",
   "execution_count": null,
   "metadata": {},
   "outputs": [],
   "source": [
    "import pandas as pd\n",
    "import numpy as np\n",
    "from sklearn.compose import ColumnTransformer\n",
    "from sklearn.preprocessing import OneHotEncoder"
   ]
  },
  {
   "cell_type": "markdown",
   "metadata": {},
   "source": [
    "## Import Dataset"
   ]
  },
  {
   "cell_type": "code",
   "execution_count": null,
   "metadata": {
    "scrolled": true
   },
   "outputs": [],
   "source": [
    "dataframe = pd.read_csv('healthcare-dataset-stroke-data.csv',index_col=0)\n",
    "print(dataframe.head(5))"
   ]
  },
  {
   "cell_type": "markdown",
   "metadata": {},
   "source": [
    "Attribute Information\n",
    "* 1) id: unique identifier p\n",
    "* 2) gender: \"Male\", \"Female\" or \"Other\"\n",
    "* 3) age: age of the patient\n",
    "* 4) hypertension: 0 if the patient doesn't have hypertension, 1 if the patient has hypertension\n",
    "* 5) heart_disease: 0 if the patient doesn't have any heart diseases, 1 if the patient has a heart disease\n",
    "* 6) ever_married: \"No\" or \"Yes\"\n",
    "* 7) work_type: \"children\", \"Govt_jov\", \"Never_worked\", \"Private\" or \"Self-employed\"\n",
    "* 8) Residence_type: \"Rural\" or \"Urban\"\n",
    "* 9) avg_glucose_level: average glucose level in blood\n",
    "* 10) bmi: body mass index\n",
    "* 11) smoking_status: \"formerly smoked\", \"never smoked\", \"smokes\" or \"Unknown\"*\n",
    "* 12) stroke: 1 if the patient had a stroke or 0 if not\n",
    "* Note: \"Unknown\" in smoking_status means that the information is unavailable for this patient"
   ]
  },
  {
   "cell_type": "markdown",
   "metadata": {},
   "source": [
    "## Tratamento de Nulos"
   ]
  },
  {
   "cell_type": "code",
   "execution_count": null,
   "metadata": {},
   "outputs": [],
   "source": [
    "media_com = dataframe[dataframe['stroke']==1]\n",
    "print(\"média do bmi dos individuos que tiveram stroke:\", np.round(media_com[\"bmi\"].mean(),1))\n",
    "\n",
    "\n",
    "media_sem = dataframe[dataframe['stroke']==0]\n",
    "print(\"média do bmi dos individuos que não tiveram stroke:\", np.round(media_sem[\"bmi\"].mean(),1))\n",
    "\n",
    "#Substituir missing values pela média dos valores, arredondado a uma casa décimal\n",
    "media_bmi = np.round(dataframe[\"bmi\"].mean(),2)\n",
    "print(\"média bmi: \" + str(media_bmi))\n",
    "dataframe['bmi'] = dataframe['bmi'].fillna(media_bmi)\n",
    "dataframe.isnull().sum()"
   ]
  },
  {
   "cell_type": "markdown",
   "metadata": {},
   "source": [
    "## Preparação dos Dados"
   ]
  },
  {
   "cell_type": "code",
   "execution_count": null,
   "metadata": {},
   "outputs": [],
   "source": [
    "#Tratamento de dados\n",
    "X = dataframe.dropna(axis = 0, how ='any')\n",
    "X = pd.concat([X,pd.get_dummies(X['gender'], prefix='gender')],axis=1)\n",
    "X = pd.concat([X,pd.get_dummies(X['ever_married'], prefix='ever_married')],axis=1)\n",
    "X = pd.concat([X,pd.get_dummies(X['work_type'], prefix='work_type')],axis=1)\n",
    "X = pd.concat([X,pd.get_dummies(X['Residence_type'], prefix='Residence_type')],axis=1)\n",
    "X = pd.concat([X,pd.get_dummies(X['smoking_status'], prefix='smoking_status')],axis=1)\n",
    "X = X.drop(['gender', 'ever_married', 'work_type', 'Residence_type', 'smoking_status'], axis = 1)\n",
    "print(X.info())"
   ]
  },
  {
   "cell_type": "code",
   "execution_count": null,
   "metadata": {},
   "outputs": [],
   "source": []
  }
 ],
 "metadata": {
  "kernelspec": {
   "display_name": "Python 3",
   "language": "python",
   "name": "python3"
  },
  "language_info": {
   "codemirror_mode": {
    "name": "ipython",
    "version": 3
   },
   "file_extension": ".py",
   "mimetype": "text/x-python",
   "name": "python",
   "nbconvert_exporter": "python",
   "pygments_lexer": "ipython3",
   "version": "3.8.8"
  }
 },
 "nbformat": 4,
 "nbformat_minor": 4
}
