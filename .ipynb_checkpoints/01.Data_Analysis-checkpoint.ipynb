{
 "cells": [
  {
   "cell_type": "markdown",
   "metadata": {},
   "source": [
    "# Stroke Predicton - Data Analysis"
   ]
  },
  {
   "cell_type": "markdown",
   "metadata": {},
   "source": [
    "##  Import Python Libraries"
   ]
  },
  {
   "cell_type": "code",
   "execution_count": null,
   "metadata": {},
   "outputs": [],
   "source": [
    "import pandas as pd\n",
    "import numpy as np\n",
    "import matplotlib.pyplot as plt\n",
    "import plotly.graph_objects as go\n",
    "import seaborn as sns\n",
    "import statistics"
   ]
  },
  {
   "cell_type": "markdown",
   "metadata": {},
   "source": [
    "## Import Dataset"
   ]
  },
  {
   "cell_type": "code",
   "execution_count": null,
   "metadata": {
    "scrolled": true
   },
   "outputs": [],
   "source": [
    "dataframe = pd.read_csv('healthcare-dataset-stroke-data.csv',index_col=0)\n",
    "print(dataframe.head(5))"
   ]
  },
  {
   "cell_type": "markdown",
   "metadata": {},
   "source": [
    "Attribute Information\n",
    "* 1) id: unique identifier p\n",
    "* 2) gender: \"Male\", \"Female\" or \"Other\"\n",
    "* 3) age: age of the patient\n",
    "* 4) hypertension: 0 if the patient doesn't have hypertension, 1 if the patient has hypertension\n",
    "* 5) heart_disease: 0 if the patient doesn't have any heart diseases, 1 if the patient has a heart disease\n",
    "* 6) ever_married: \"No\" or \"Yes\"\n",
    "* 7) work_type: \"children\", \"Govt_jov\", \"Never_worked\", \"Private\" or \"Self-employed\"\n",
    "* 8) Residence_type: \"Rural\" or \"Urban\"\n",
    "* 9) avg_glucose_level: average glucose level in blood\n",
    "* 10) bmi: body mass index\n",
    "* 11) smoking_status: \"formerly smoked\", \"never smoked\", \"smokes\" or \"Unknown\"*\n",
    "* 12) stroke: 1 if the patient had a stroke or 0 if not\n",
    "* Note: \"Unknown\" in smoking_status means that the information is unavailable for this patient"
   ]
  },
  {
   "cell_type": "markdown",
   "metadata": {},
   "source": [
    "### Data Quality"
   ]
  },
  {
   "cell_type": "code",
   "execution_count": null,
   "metadata": {},
   "outputs": [],
   "source": [
    "dataframe.info()"
   ]
  },
  {
   "cell_type": "code",
   "execution_count": null,
   "metadata": {},
   "outputs": [],
   "source": [
    "#Ver se existe alguma row duplicada no dataset\n",
    "dataframe[dataframe.duplicated() == True]"
   ]
  },
  {
   "cell_type": "code",
   "execution_count": null,
   "metadata": {},
   "outputs": [],
   "source": [
    "#ver missing values dentro do dataset\n",
    "dataframe.isnull().sum()"
   ]
  },
  {
   "cell_type": "markdown",
   "metadata": {},
   "source": [
    "## Exploration Data"
   ]
  },
  {
   "cell_type": "code",
   "execution_count": null,
   "metadata": {
    "scrolled": true
   },
   "outputs": [],
   "source": [
    "cols = ['age','avg_glucose_level','bmi']\n",
    "np.round(dataframe[cols].describe(), 2).T[['mean', 'std', 'min', 'max',\"25%\",\"50%\",\"75%\"]]"
   ]
  },
  {
   "cell_type": "code",
   "execution_count": null,
   "metadata": {},
   "outputs": [],
   "source": [
    "boxplot_1 = dataframe.boxplot(column=['age','avg_glucose_level','bmi'], \n",
    "                            grid=False, rot=45, fontsize=15)\n",
    "print(boxplot_1)"
   ]
  },
  {
   "cell_type": "markdown",
   "metadata": {},
   "source": [
    "### Stroke"
   ]
  },
  {
   "cell_type": "code",
   "execution_count": null,
   "metadata": {},
   "outputs": [],
   "source": [
    "stroke_1 = dataframe[dataframe['stroke']==1]\n",
    "stroke_1 = stroke_1['stroke'].count()\n",
    "stroke_0 = dataframe[dataframe['stroke']==0]\n",
    "stroke_0 = stroke_0['stroke'].count()\n",
    "\n",
    "objects = ('Stroke 1', 'Stroke 0')\n",
    "Count = [stroke_1, stroke_0]\n",
    "y_pos = np.arange(len(objects))\n",
    "\n",
    "plt.bar(objects, Count)\n",
    "plt.xticks(y_pos, objects)\n",
    "plt.ylabel('Count')\n",
    "plt.title('Stroke (1; 0) Count')\n",
    "\n",
    "\n",
    "for index,data in enumerate(Count):\n",
    "    plt.text(x=index , y =data+1 , s=f\"{data}\" , fontdict=dict(fontsize=20))\n",
    "\n",
    "plt.show()"
   ]
  },
  {
   "cell_type": "code",
   "execution_count": null,
   "metadata": {},
   "outputs": [],
   "source": [
    "print(\"Stroke Probability:\", round(stroke_1/(stroke_1+stroke_0)*100,2),\"%\")"
   ]
  },
  {
   "cell_type": "markdown",
   "metadata": {},
   "source": [
    "### Gender"
   ]
  },
  {
   "cell_type": "code",
   "execution_count": null,
   "metadata": {},
   "outputs": [],
   "source": [
    "gender_m = dataframe[dataframe['gender']==\"Male\"]\n",
    "gender_m = gender_m['gender'].count()\n",
    "gender_f = dataframe[dataframe['gender']==\"Female\"]\n",
    "gender_f = gender_f['gender'].count()\n",
    "\n",
    "objects = ('Male', 'Female')\n",
    "Count = [gender_m, gender_f]\n",
    "y_pos = np.arange(len(objects))\n",
    "\n",
    "plt.bar(objects, Count)\n",
    "plt.xticks(y_pos, objects)\n",
    "plt.ylabel('Count')\n",
    "plt.title('Male and Female')\n",
    "\n",
    "\n",
    "for index,data in enumerate(Count):\n",
    "    plt.text(x=index , y =data+1 , s=f\"{data}\" , fontdict=dict(fontsize=20))\n",
    "\n",
    "plt.show()"
   ]
  },
  {
   "cell_type": "code",
   "execution_count": null,
   "metadata": {},
   "outputs": [],
   "source": [
    "print(\"Male Percentage:\", round(gender_m/(gender_m+gender_f)*100,2),\"%\")\n",
    "print(\"Female Percentage:\", round(gender_f/(gender_m+gender_f)*100,2),\"%\")"
   ]
  },
  {
   "cell_type": "markdown",
   "metadata": {},
   "source": [
    "### Gender - Stroke"
   ]
  },
  {
   "cell_type": "code",
   "execution_count": null,
   "metadata": {},
   "outputs": [],
   "source": [
    "gender_m = dataframe[dataframe['gender']==\"Male\"]\n",
    "gender_m_1 = gender_m[gender_m['stroke']==1]\n",
    "gender_m_1 = gender_m_1['gender'].count()\n",
    "gender_m = gender_m['gender'].count()\n",
    "gender_f = dataframe[dataframe['gender']==\"Female\"]\n",
    "gender_f_1 =gender_f[gender_f['stroke']==1]\n",
    "gender_f_1 = gender_f_1['gender'].count()\n",
    "gender_f = gender_f['gender'].count()\n",
    "p_male_stroke = round(gender_m_1/gender_m*100,2)\n",
    "p_female_stroke = round(gender_f_1/gender_f*100,2)\n",
    "\n",
    "\n",
    "fig = go.Figure(data=[go.Table(\n",
    "    header=dict(values=['Gender', 'Total', 'Stroke','% Stroke'],\n",
    "                line_color='darkslategray',\n",
    "                fill_color='lightskyblue',\n",
    "                align='left'),\n",
    "    cells=dict(values=[['Male', 'Female'], # 1st column\n",
    "                       [gender_m, gender_f], # 2nd column\n",
    "                       [gender_m_1, gender_f_1], # 3nd column\n",
    "                       [str(p_male_stroke)+\" %\", str(p_female_stroke)+\" %\"], # 4nd column\n",
    "                      ], \n",
    "               line_color='darkslategray',\n",
    "               fill_color='lightcyan',\n",
    "               align='left'))])\n",
    "\n",
    "fig.update_layout(width=500, height=300)\n",
    "fig.show()"
   ]
  },
  {
   "cell_type": "markdown",
   "metadata": {},
   "source": [
    "### Age - Stroke"
   ]
  },
  {
   "cell_type": "code",
   "execution_count": null,
   "metadata": {},
   "outputs": [],
   "source": [
    "def bpl(dataframe, col, y):\n",
    "    var_1 = dataframe[dataframe[y]==1]\n",
    "    var_1 = var_1[col].to_numpy()\n",
    "    var_0 = dataframe[dataframe[y]==0]\n",
    "    var_0 = var_0[col].to_numpy()\n",
    "    all_arr = [[var_0],\n",
    "               [var_1]]\n",
    "    return sns.boxplot(data=all_arr)\n",
    "    \n",
    "\n",
    "\n",
    "bpl(dataframe, \"age\", \"stroke\")"
   ]
  },
  {
   "cell_type": "markdown",
   "metadata": {},
   "source": [
    "### Avg_glucose_level - Stroke"
   ]
  },
  {
   "cell_type": "code",
   "execution_count": null,
   "metadata": {},
   "outputs": [],
   "source": [
    "bpl(dataframe, \"avg_glucose_level\", \"stroke\")"
   ]
  },
  {
   "cell_type": "markdown",
   "metadata": {},
   "source": [
    "### Bmi - Stroke"
   ]
  },
  {
   "cell_type": "code",
   "execution_count": null,
   "metadata": {},
   "outputs": [],
   "source": [
    "bpl(dataframe, \"bmi\", \"stroke\")"
   ]
  },
  {
   "cell_type": "markdown",
   "metadata": {},
   "source": [
    "### Hypertension"
   ]
  },
  {
   "cell_type": "code",
   "execution_count": null,
   "metadata": {},
   "outputs": [],
   "source": [
    "hypertension_1 = dataframe[dataframe['hypertension']==1]\n",
    "hypertension_1 = hypertension_1['hypertension'].count()\n",
    "hypertension_0 = dataframe[dataframe['hypertension']==0]\n",
    "hypertension_0 = hypertension_0['hypertension'].count()\n",
    "\n",
    "objects = ('1', '0')\n",
    "Count = [hypertension_1, hypertension_0]\n",
    "y_pos = np.arange(len(objects))\n",
    "\n",
    "plt.bar(objects, Count)\n",
    "plt.xticks(y_pos, objects)\n",
    "plt.xlabel('Hypertension')\n",
    "plt.ylabel('Count')\n",
    "plt.title('Hypertension')\n",
    "\n",
    "for index,data in enumerate(Count):\n",
    "    plt.text(x=index , y =data+1 , s=f\"{data}\" , fontdict=dict(fontsize=20))\n",
    "\n",
    "plt.show()\n",
    "\n"
   ]
  },
  {
   "cell_type": "markdown",
   "metadata": {},
   "source": [
    "### Hypertension - Stroke"
   ]
  },
  {
   "cell_type": "code",
   "execution_count": null,
   "metadata": {},
   "outputs": [],
   "source": [
    "hypertension_m = dataframe[dataframe['hypertension']==1]\n",
    "hypertension_m_1 = hypertension_m[hypertension_m['stroke']==1]\n",
    "hypertension_m_1 = hypertension_m_1['hypertension'].count()\n",
    "hypertension_m = hypertension_m['hypertension'].count()\n",
    "\n",
    "hypertension_f = dataframe[dataframe['hypertension']==0]\n",
    "hypertension_f_1 =hypertension_f[hypertension_f['stroke']==1]\n",
    "hypertension_f_1 = hypertension_f_1['hypertension'].count()\n",
    "hypertension_f = hypertension_f['hypertension'].count()\n",
    "p_hypertension_stroke = round(hypertension_m_1/hypertension_m*100,2)\n",
    "p_hypertension_n_stroke = round(hypertension_f_1/hypertension_f*100,2)\n",
    "\n",
    "\n",
    "fig = go.Figure(data=[go.Table(\n",
    "    header=dict(values=['Hypertension', 'Total', 'Stroke','% Stroke'],\n",
    "                line_color='darkslategray',\n",
    "                fill_color='lightskyblue',\n",
    "                align='left'),\n",
    "    cells=dict(values=[['1', '0'], # 1st column\n",
    "                       [hypertension_m, hypertension_f], # 2nd column\n",
    "                       [hypertension_m_1, hypertension_f_1], # 3nd column\n",
    "                       [str(p_hypertension_stroke)+\" %\", str(p_hypertension_n_stroke)+\" %\"], # 4nd column\n",
    "                      ], \n",
    "               line_color='darkslategray',\n",
    "               fill_color='lightcyan',\n",
    "               align='left'))])\n",
    "\n",
    "fig.update_layout(width=600, height=300)\n",
    "fig.show()"
   ]
  },
  {
   "cell_type": "markdown",
   "metadata": {},
   "source": [
    "### Heart_disease"
   ]
  },
  {
   "cell_type": "code",
   "execution_count": null,
   "metadata": {},
   "outputs": [],
   "source": [
    "heart_disease_1 = dataframe[dataframe['heart_disease']==1]\n",
    "heart_disease_1 = heart_disease_1['heart_disease'].count()\n",
    "heart_disease_0 = dataframe[dataframe['heart_disease']==0]\n",
    "heart_disease_0 = heart_disease_0['heart_disease'].count()\n",
    "\n",
    "objects = ('1', '0')\n",
    "Count = [heart_disease_1, heart_disease_0]\n",
    "y_pos = np.arange(len(objects))\n",
    "\n",
    "plt.bar(objects, Count)\n",
    "plt.xticks(y_pos, objects)\n",
    "plt.xlabel('Heart Disease')\n",
    "plt.ylabel('Count')\n",
    "plt.title('Heart Disease')\n",
    "\n",
    "for index,data in enumerate(Count):\n",
    "    plt.text(x=index , y =data+1 , s=f\"{data}\" , fontdict=dict(fontsize=20))\n",
    "\n",
    "plt.show()"
   ]
  },
  {
   "cell_type": "markdown",
   "metadata": {},
   "source": [
    "### Heart_disease - Stroke"
   ]
  },
  {
   "cell_type": "code",
   "execution_count": null,
   "metadata": {},
   "outputs": [],
   "source": [
    "heart_disease_m = dataframe[dataframe['heart_disease']==1]\n",
    "heart_disease_m_1 = heart_disease_m[heart_disease_m['stroke']==1]\n",
    "heart_disease_m_1 = heart_disease_m_1['heart_disease'].count()\n",
    "heart_disease_m = heart_disease_m['heart_disease'].count()\n",
    "heart_disease_f = dataframe[dataframe['heart_disease']==0]\n",
    "heart_disease_f_1 =heart_disease_f[heart_disease_f['stroke']==1]\n",
    "heart_disease_f_1 = heart_disease_f_1['heart_disease'].count()\n",
    "heart_disease_f = heart_disease_f['heart_disease'].count()\n",
    "p_heart_disease_stroke = round(heart_disease_m_1/heart_disease_m*100,2)\n",
    "p_heart_disease_no_stroke = round(heart_disease_f_1/heart_disease_f*100,2)\n",
    "\n",
    "\n",
    "fig = go.Figure(data=[go.Table(\n",
    "    header=dict(values=['Heart_disease', 'Total', 'Stroke','% Stroke'],\n",
    "                line_color='darkslategray',\n",
    "                fill_color='lightskyblue',\n",
    "                align='left'),\n",
    "    cells=dict(values=[['1', '0'], # 1st column\n",
    "                       [heart_disease_m, heart_disease_f], # 2nd column\n",
    "                       [heart_disease_m_1, heart_disease_f_1], # 3nd column\n",
    "                       [str(p_heart_disease_stroke)+\" %\", str(p_heart_disease_no_stroke)+\" %\"], # 4nd column\n",
    "                      ], \n",
    "               line_color='darkslategray',\n",
    "               fill_color='lightcyan',\n",
    "               align='left'))])\n",
    "\n",
    "fig.update_layout(width=600, height=300)\n",
    "fig.show()"
   ]
  },
  {
   "cell_type": "markdown",
   "metadata": {},
   "source": [
    "### Ever_married"
   ]
  },
  {
   "cell_type": "code",
   "execution_count": null,
   "metadata": {},
   "outputs": [],
   "source": [
    "ever_married_y = dataframe[dataframe['ever_married']==\"Yes\"]\n",
    "ever_married_y = ever_married_y['ever_married'].count()\n",
    "ever_married_n = dataframe[dataframe['ever_married']==\"No\"]\n",
    "ever_married_n = ever_married_n['ever_married'].count()\n",
    "\n",
    "objects = ('Yes', 'No')\n",
    "Count = [ever_married_y, ever_married_n]\n",
    "y_pos = np.arange(len(objects))\n",
    "\n",
    "plt.bar(objects, Count)\n",
    "plt.xticks(y_pos, objects)\n",
    "plt.xlabel('Ever Married')\n",
    "plt.ylabel('Count')\n",
    "plt.title('Ever Married')\n",
    "\n",
    "for index,data in enumerate(Count):\n",
    "    plt.text(x=index , y =data+1 , s=f\"{data}\" , fontdict=dict(fontsize=20))\n",
    "\n",
    "plt.show()"
   ]
  },
  {
   "cell_type": "markdown",
   "metadata": {},
   "source": [
    "### Ever_married - Stroke"
   ]
  },
  {
   "cell_type": "code",
   "execution_count": null,
   "metadata": {},
   "outputs": [],
   "source": [
    "ever_married_m = dataframe[dataframe['ever_married']==\"Yes\"]\n",
    "ever_married_m_1 = ever_married_m[ever_married_m['stroke']==1]\n",
    "ever_married_m_1 = ever_married_m_1['ever_married'].count()\n",
    "ever_married_m = ever_married_m['ever_married'].count()\n",
    "ever_married_f = dataframe[dataframe['ever_married']==\"No\"]\n",
    "ever_married_f_1 =ever_married_f[ever_married_f['stroke']==1]\n",
    "ever_married_f_1 = ever_married_f_1['ever_married'].count()\n",
    "ever_married_f = ever_married_f['ever_married'].count()\n",
    "p_ever_married_stroke = round(ever_married_m_1/ever_married_m*100,2)\n",
    "p_ever_married_no_stroke = round(ever_married_f_1/ever_married_f*100,2)\n",
    "\n",
    "\n",
    "fig = go.Figure(data=[go.Table(\n",
    "    header=dict(values=['Ever_married', 'Total', 'Stroke','% Stroke'],\n",
    "                line_color='darkslategray',\n",
    "                fill_color='lightskyblue',\n",
    "                align='left'),\n",
    "    cells=dict(values=[['Yes', 'No'], # 1st column\n",
    "                       [ever_married_m, ever_married_f], # 2nd column\n",
    "                       [ever_married_m_1, ever_married_f_1], # 3nd column\n",
    "                       [str(p_ever_married_stroke)+\" %\", str(p_ever_married_no_stroke)+\" %\"], # 4nd column\n",
    "                      ], \n",
    "               line_color='darkslategray',\n",
    "               fill_color='lightcyan',\n",
    "               align='left'))])\n",
    "\n",
    "fig.update_layout(width=600, height=300)\n",
    "fig.show()"
   ]
  },
  {
   "cell_type": "markdown",
   "metadata": {},
   "source": [
    "### Work_type"
   ]
  },
  {
   "cell_type": "code",
   "execution_count": null,
   "metadata": {},
   "outputs": [],
   "source": [
    "work_type_m = dataframe[dataframe['work_type']==\"Private\"]\n",
    "work_type_m = work_type_m['work_type'].count()\n",
    "\n",
    "work_type_f = dataframe[dataframe['work_type']==\"Self-employed\"]\n",
    "work_type_f = work_type_f['work_type'].count()\n",
    "\n",
    "work_type_g = dataframe[dataframe['work_type']==\"Govt_job\"]\n",
    "work_type_g = work_type_g['work_type'].count()\n",
    "\n",
    "work_type_h = dataframe[dataframe['work_type']==\"children\"]\n",
    "work_type_h= work_type_h['work_type'].count()\n",
    "\n",
    "work_type_i = dataframe[dataframe['work_type']==\"Never_worked\"]\n",
    "work_type_i = work_type_i['work_type'].count()\n",
    "\n",
    "objects = ('Private', 'Self-employed', 'Govt_job', 'Children', 'Never_worked')\n",
    "Count = [work_type_m, work_type_f,work_type_g,work_type_h,work_type_i]\n",
    "y_pos = np.arange(len(objects))\n",
    "\n",
    "plt.bar(objects, Count)\n",
    "plt.xticks(y_pos, objects)\n",
    "plt.xlabel('Work type')\n",
    "plt.ylabel('Count')\n",
    "plt.title('Work type')\n",
    "\n",
    "for index,data in enumerate(Count):\n",
    "    plt.text(x=index , y =data+1 , s=f\"{data}\" , fontdict=dict(fontsize=20))\n",
    "\n",
    "plt.show()"
   ]
  },
  {
   "cell_type": "markdown",
   "metadata": {},
   "source": [
    "### Work_type - Stroke"
   ]
  },
  {
   "cell_type": "code",
   "execution_count": null,
   "metadata": {},
   "outputs": [],
   "source": [
    "work_type_m = dataframe[dataframe['work_type']==\"Private\"]\n",
    "work_type_m_1 = work_type_m[work_type_m['stroke']==1]\n",
    "work_type_m_1 = work_type_m_1['work_type'].count()\n",
    "work_type_m = work_type_m['work_type'].count()\n",
    "\n",
    "work_type_f = dataframe[dataframe['work_type']==\"Self-employed\"]\n",
    "work_type_f_1 = work_type_f[work_type_f['stroke']==1]\n",
    "work_type_f_1 = work_type_f_1['work_type'].count()\n",
    "work_type_f = work_type_f['work_type'].count()\n",
    "\n",
    "work_type_g = dataframe[dataframe['work_type']==\"Govt_job\"]\n",
    "work_type_g_1 =work_type_g[work_type_g['stroke']==1]\n",
    "work_type_g_1 = work_type_g_1['work_type'].count()\n",
    "work_type_g = work_type_g['work_type'].count()\n",
    "\n",
    "work_type_h = dataframe[dataframe['work_type']==\"children\"]\n",
    "work_type_h_1 =work_type_h[work_type_h['stroke']==1]\n",
    "work_type_h_1 = work_type_h_1['work_type'].count()\n",
    "work_type_h = work_type_h['work_type'].count()\n",
    "\n",
    "work_type_i = dataframe[dataframe['work_type']==\"Never_worked\"]\n",
    "work_type_i_1 =work_type_i[work_type_i['stroke']==1]\n",
    "work_type_i_1 = work_type_i_1['work_type'].count()\n",
    "work_type_i = work_type_i['work_type'].count()\n",
    "\n",
    "p_work_type_stroke = round(work_type_m_1/work_type_m*100,2)\n",
    "p_work_type_f_stroke = round(work_type_f_1/work_type_f*100,2)\n",
    "p_work_type_g_stroke = round(work_type_g_1/work_type_g*100,2)\n",
    "p_work_type_h_stroke = round(work_type_h_1/work_type_h*100,2)\n",
    "p_work_type_i_stroke = round(work_type_i_1/work_type_i*100,2)\n",
    "\n",
    "\n",
    "fig = go.Figure(data=[go.Table(\n",
    "    header=dict(values=['Work Type', 'Total', 'Stroke','% Stroke'],\n",
    "                line_color='darkslategray',\n",
    "                fill_color='lightskyblue',\n",
    "                align='left'),\n",
    "    cells=dict(values=[['Private', 'Self-employed', 'Govt_job', 'Children', 'Never_worked'], # 1st column\n",
    "                       [work_type_m, work_type_f, work_type_g, work_type_h, work_type_i], # 2nd column\n",
    "                       [work_type_m_1, work_type_f_1, work_type_g_1, work_type_h_1, work_type_i_1], # 3nd column\n",
    "                       [str(p_work_type_stroke)+\" %\", str(p_work_type_f_stroke)+\" %\", str(p_work_type_g_stroke)+\" %\", str(p_work_type_h_stroke)+\" %\" , str(p_work_type_i_stroke)+\" %\" ], # 4nd column\n",
    "                      ],\n",
    "               line_color='darkslategray',\n",
    "               fill_color='lightcyan',\n",
    "               align='left'))])\n",
    "\n",
    "fig.update_layout(width=800, height=500)\n",
    "fig.show()"
   ]
  },
  {
   "cell_type": "markdown",
   "metadata": {},
   "source": [
    "### Residence_type"
   ]
  },
  {
   "cell_type": "code",
   "execution_count": null,
   "metadata": {},
   "outputs": [],
   "source": [
    "residence_type_y = dataframe[dataframe['Residence_type']==\"Urban\"]\n",
    "residence_type_y = residence_type_y['Residence_type'].count()\n",
    "residence_type_n = dataframe[dataframe['Residence_type']==\"Rural\"]\n",
    "residence_type_n = residence_type_n['Residence_type'].count()\n",
    "\n",
    "objects = ('Urban', 'Rural')\n",
    "Count = [residence_type_y, residence_type_n]\n",
    "y_pos = np.arange(len(objects))\n",
    "\n",
    "plt.bar(objects, Count)\n",
    "plt.xticks(y_pos, objects)\n",
    "plt.xlabel('Residence type')\n",
    "plt.ylabel('Count')\n",
    "plt.title('Residence type')\n",
    "\n",
    "for index,data in enumerate(Count):\n",
    "    plt.text(x=index , y =data+1 , s=f\"{data}\" , fontdict=dict(fontsize=20))\n",
    "\n",
    "plt.show()"
   ]
  },
  {
   "cell_type": "markdown",
   "metadata": {},
   "source": [
    "### Residence_type - Stroke"
   ]
  },
  {
   "cell_type": "code",
   "execution_count": null,
   "metadata": {},
   "outputs": [],
   "source": [
    "residence_type_m = dataframe[dataframe['Residence_type']==\"Urban\"]\n",
    "residence_type_m_1 = residence_type_m[residence_type_m['stroke']==1]\n",
    "residence_type_m_1 = residence_type_m_1['Residence_type'].count()\n",
    "residence_type_m = residence_type_m['Residence_type'].count()\n",
    "residence_type_f = dataframe[dataframe['Residence_type']==\"Rural\"]\n",
    "residence_type_f_1 =residence_type_f[residence_type_f['stroke']==1]\n",
    "residence_type_f_1 = residence_type_f_1['Residence_type'].count()\n",
    "residence_type_f = residence_type_f['Residence_type'].count()\n",
    "p_residence_type_stroke = round(residence_type_m_1/residence_type_m*100,2)\n",
    "p_residence_type_rural_stroke = round(residence_type_f_1/residence_type_f*100,2)\n",
    "\n",
    "\n",
    "fig = go.Figure(data=[go.Table(\n",
    "    header=dict(values=['Residence Type', 'Total', 'Stroke','% Stroke'],\n",
    "                line_color='darkslategray',\n",
    "                fill_color='lightskyblue',\n",
    "                align='left'),\n",
    "    cells=dict(values=[['Urban', 'Rural'], # 1st column\n",
    "                       [residence_type_m, residence_type_f], # 2nd column\n",
    "                       [residence_type_m_1, residence_type_f_1], # 3nd column\n",
    "                       [str(p_residence_type_stroke)+\" %\", str(p_residence_type_rural_stroke)+\" %\"], # 4nd column\n",
    "                      ], \n",
    "               line_color='darkslategray',\n",
    "               fill_color='lightcyan',\n",
    "               align='left'))])\n",
    "\n",
    "fig.update_layout(width=600, height=300)\n",
    "fig.show()"
   ]
  },
  {
   "cell_type": "markdown",
   "metadata": {},
   "source": [
    "### Smoking_status"
   ]
  },
  {
   "cell_type": "code",
   "execution_count": null,
   "metadata": {},
   "outputs": [],
   "source": [
    "smoking_status_m = dataframe[dataframe['smoking_status']==\"formerly smoked\"]\n",
    "smoking_status_m = smoking_status_m['smoking_status'].count()\n",
    "\n",
    "smoking_status_f = dataframe[dataframe['smoking_status']==\"never smoked\"]\n",
    "smoking_status_f = smoking_status_f['smoking_status'].count()\n",
    "\n",
    "smoking_status_g = dataframe[dataframe['smoking_status']==\"smokes\"]\n",
    "smoking_status_g = smoking_status_g['smoking_status'].count()\n",
    "\n",
    "smoking_status_h = dataframe[dataframe['smoking_status']==\"Unknown\"]\n",
    "smoking_status_h = smoking_status_h['smoking_status'].count()\n",
    "\n",
    "objects = ('Formerly smoked', 'Never smoked', 'Smokes', 'Unknown')\n",
    "Count = [smoking_status_m, smoking_status_f,smoking_status_g, smoking_status_h]\n",
    "y_pos = np.arange(len(objects))\n",
    "\n",
    "plt.bar(objects, Count)\n",
    "plt.xticks(y_pos, objects)\n",
    "plt.xlabel('Smoking Status')\n",
    "plt.ylabel('Count')\n",
    "plt.title('Smoking Status')\n",
    "\n",
    "for index,data in enumerate(Count):\n",
    "    plt.text(x=index , y =data+1 , s=f\"{data}\" , fontdict=dict(fontsize=10))\n",
    "\n",
    "plt.show()"
   ]
  },
  {
   "cell_type": "markdown",
   "metadata": {},
   "source": [
    "### Smoking_status - Stroke"
   ]
  },
  {
   "cell_type": "code",
   "execution_count": null,
   "metadata": {},
   "outputs": [],
   "source": [
    "smoking_status_m = dataframe[dataframe['smoking_status']==\"formerly smoked\"]\n",
    "smoking_status_m_1 = smoking_status_m[smoking_status_m['stroke']==1]\n",
    "smoking_status_m_1 = smoking_status_m_1['smoking_status'].count()\n",
    "smoking_status_m = smoking_status_m['smoking_status'].count()\n",
    "\n",
    "smoking_status_f = dataframe[dataframe['smoking_status']==\"never smoked\"]\n",
    "smoking_status_f_1 =smoking_status_f[smoking_status_f['stroke']==1]\n",
    "smoking_status_f_1 = smoking_status_f_1['smoking_status'].count()\n",
    "smoking_status_f = smoking_status_f['smoking_status'].count()\n",
    "\n",
    "smoking_status_g = dataframe[dataframe['smoking_status']==\"smokes\"]\n",
    "smoking_status_g_1 =smoking_status_g[smoking_status_g['stroke']==1]\n",
    "smoking_status_g_1 = smoking_status_g_1['smoking_status'].count()\n",
    "smoking_status_g = smoking_status_g['smoking_status'].count()\n",
    "\n",
    "smoking_status_h = dataframe[dataframe['smoking_status']==\"Unknown\"]\n",
    "smoking_status_h_1 =smoking_status_h[smoking_status_h['stroke']==1]\n",
    "smoking_status_h_1 = smoking_status_h_1['smoking_status'].count()\n",
    "smoking_status_h = smoking_status_h['smoking_status'].count()\n",
    "\n",
    "p_smoking_status_stroke = round(smoking_status_m_1/smoking_status_m*100,2)\n",
    "p_smoking_status_f_stroke = round(smoking_status_f_1/smoking_status_f*100,2)\n",
    "p_smoking_status_g_stroke = round(smoking_status_g_1/smoking_status_g*100,2)\n",
    "p_smoking_status_h_stroke = round(smoking_status_h_1/smoking_status_h*100,2)\n",
    "\n",
    "\n",
    "fig = go.Figure(data=[go.Table(\n",
    "    header=dict(values=['Smoking_status', 'Total', 'Stroke','% Stroke'],\n",
    "                line_color='darkslategray',\n",
    "                fill_color='lightskyblue',\n",
    "                align='left'),\n",
    "    cells=dict(values=[['Formerly Smoked', 'Never Smoked', 'Smokes', \"Unkown\"], # 1st column\n",
    "                       [smoking_status_m, smoking_status_f, smoking_status_g, smoking_status_h], # 2nd column\n",
    "                       [smoking_status_m_1, smoking_status_f_1, smoking_status_g_1, smoking_status_h_1], # 3nd column\n",
    "                       [str(p_smoking_status_stroke)+\" %\", str(p_smoking_status_f_stroke)+\" %\", str(p_smoking_status_g_stroke)+\" %\", str(p_smoking_status_h_stroke)+\" %\" ], # 4nd column\n",
    "                      ], \n",
    "               line_color='darkslategray',\n",
    "               fill_color='lightcyan',\n",
    "               align='left'))])\n",
    "\n",
    "fig.update_layout(width=800, height=500)\n",
    "fig.show()"
   ]
  },
  {
   "cell_type": "markdown",
   "metadata": {},
   "source": [
    "### Correlation"
   ]
  },
  {
   "cell_type": "code",
   "execution_count": null,
   "metadata": {},
   "outputs": [],
   "source": [
    "df = dataframe[[\"age\", \"avg_glucose_level\",\"bmi\"]]\n",
    "corrMatrix = df[df.columns.difference(['stroke'])].corr(method=\"pearson\")\n",
    "sns.heatmap(corrMatrix, annot=True)\n",
    "plt.show()"
   ]
  },
  {
   "cell_type": "code",
   "execution_count": null,
   "metadata": {},
   "outputs": [],
   "source": [
    "df = dataframe[[\"age\", \"avg_glucose_level\",\"bmi\",\"stroke\"]]\n",
    "sns.pairplot(df, hue=\"stroke\")"
   ]
  },
  {
   "cell_type": "code",
   "execution_count": null,
   "metadata": {},
   "outputs": [],
   "source": []
  },
  {
   "cell_type": "code",
   "execution_count": null,
   "metadata": {},
   "outputs": [],
   "source": []
  }
 ],
 "metadata": {
  "kernelspec": {
   "display_name": "Python 3",
   "language": "python",
   "name": "python3"
  },
  "language_info": {
   "codemirror_mode": {
    "name": "ipython",
    "version": 3
   },
   "file_extension": ".py",
   "mimetype": "text/x-python",
   "name": "python",
   "nbconvert_exporter": "python",
   "pygments_lexer": "ipython3",
   "version": "3.8.8"
  }
 },
 "nbformat": 4,
 "nbformat_minor": 4
}
