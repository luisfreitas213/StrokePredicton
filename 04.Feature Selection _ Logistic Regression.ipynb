{
 "cells": [
  {
   "cell_type": "markdown",
   "id": "minimal-capacity",
   "metadata": {},
   "source": [
    "# Stroke Predicton - Feature Selection and Logistic Regression"
   ]
  },
  {
   "cell_type": "code",
   "execution_count": 1,
   "id": "immune-myanmar",
   "metadata": {},
   "outputs": [],
   "source": [
    "import pandas as pd\n",
    "import numpy as np\n",
    "from sklearn.model_selection import train_test_split\n",
    "from imblearn.over_sampling import SMOTE\n",
    "from sklearn.feature_selection import SelectKBest\n",
    "from sklearn.feature_selection import chi2\n",
    "from sklearn.feature_selection import RFE\n",
    "from sklearn.linear_model import LogisticRegression"
   ]
  },
  {
   "cell_type": "code",
   "execution_count": 2,
   "id": "discrete-victory",
   "metadata": {},
   "outputs": [],
   "source": [
    "dataframe = pd.read_csv('healthcare-dataset-stroke-data.csv',index_col=0)\n",
    "media_bmi = np.round(dataframe[\"bmi\"].mean(),2)\n",
    "dataframe['bmi'] = dataframe['bmi'].fillna(media_bmi)\n",
    "dataframe.isnull().sum()\n",
    "X = dataframe.dropna(axis = 0, how ='any')\n",
    "X = pd.concat([X,pd.get_dummies(X['gender'], prefix='gender')],axis=1)\n",
    "X = pd.concat([X,pd.get_dummies(X['ever_married'], prefix='ever_married')],axis=1)\n",
    "X = pd.concat([X,pd.get_dummies(X['work_type'], prefix='work_type')],axis=1)\n",
    "X = pd.concat([X,pd.get_dummies(X['Residence_type'], prefix='Residence_type')],axis=1)\n",
    "X = pd.concat([X,pd.get_dummies(X['smoking_status'], prefix='smoking_status')],axis=1)\n",
    "X = X.drop(['gender', 'ever_married', 'work_type', 'Residence_type', 'smoking_status'], axis = 1)\n",
    "df = X[['age',                            \n",
    "    'hypertension',               \n",
    "    'heart_disease',                  \n",
    "    'avg_glucose_level',               \n",
    "    'bmi',                                                   \n",
    "    'gender_Female',                  \n",
    "    'gender_Male',                     \n",
    "    'gender_Other',                      \n",
    "    'ever_married_No',                \n",
    "   'ever_married_Yes',                \n",
    "   'work_type_Govt_job',               \n",
    "   'work_type_Never_worked',         \n",
    "   'work_type_Private',                 \n",
    "   'work_type_Self-employed',          \n",
    "   'work_type_children',              \n",
    "   'Residence_type_Rural',             \n",
    "   'Residence_type_Urban',            \n",
    "   'smoking_status_Unknown',          \n",
    "   'smoking_status_formerly smoked',  \n",
    "   'smoking_status_never smoked',     \n",
    "   'smoking_status_smokes',\n",
    "   'stroke']]\n"
   ]
  },
  {
   "cell_type": "code",
   "execution_count": 3,
   "id": "stopped-given",
   "metadata": {},
   "outputs": [],
   "source": [
    "labels = ['age',                            \n",
    "    'hypertension',               \n",
    "    'heart_disease',                  \n",
    "    'avg_glucose_level',               \n",
    "    'bmi',                                                   \n",
    "    'gender_Female',                  \n",
    "    'gender_Male',                     \n",
    "    'gender_Other',                      \n",
    "    'ever_married_No',                \n",
    "   'ever_married_Yes',                \n",
    "   'work_type_Govt_job',               \n",
    "   'work_type_Never_worked',         \n",
    "   'work_type_Private',                 \n",
    "   'work_type_Self-employed',          \n",
    "   'work_type_children',              \n",
    "   'Residence_type_Rural',             \n",
    "   'Residence_type_Urban',            \n",
    "   'smoking_status_Unknown',          \n",
    "   'smoking_status_formerly smoked',  \n",
    "   'smoking_status_never smoked',     \n",
    "   'smoking_status_smokes']\n",
    "df = df.reset_index(drop=True)\n",
    "X = df[labels]\n",
    "y = df['stroke']\n",
    "\n",
    "X_train, X_test, y_train, y_test = train_test_split(X, y, test_size=0.20, random_state=66)\n",
    "sm = SMOTE(random_state = 5)\n",
    "X_train_oversampled, y_train_oversampled = sm.fit_resample(X_train, y_train)\n",
    "X_train = pd.DataFrame(X_train_oversampled, columns=X_train.columns)\n",
    "y_train = pd.DataFrame(y_train_oversampled ,columns=['stroke'])\n",
    "X_train = X_train.reset_index(drop=True)\n",
    "y_train = y_train.reset_index(drop=True)"
   ]
  },
  {
   "cell_type": "code",
   "execution_count": 4,
   "id": "earned-venezuela",
   "metadata": {},
   "outputs": [
    {
     "name": "stdout",
     "output_type": "stream",
     "text": [
      "                             Specs         Score\n",
      "0                              age  24267.092824\n",
      "3                avg_glucose_level  11680.633450\n",
      "8                  ever_married_No   1181.241012\n",
      "17          smoking_status_Unknown    708.552301\n",
      "14              work_type_children    532.840278\n",
      "15            Residence_type_Rural    362.914245\n",
      "19     smoking_status_never smoked    355.370407\n",
      "10              work_type_Govt_job    316.160279\n",
      "5                    gender_Female    263.403990\n",
      "6                      gender_Male    256.013710\n",
      "20           smoking_status_smokes    214.072727\n",
      "16            Residence_type_Urban    160.794045\n",
      "18  smoking_status_formerly smoked    150.085221\n",
      "12               work_type_Private    125.767742\n",
      "9                 ever_married_Yes     69.931034\n",
      "13         work_type_Self-employed     67.626834\n",
      "4                              bmi     51.357325\n",
      "11          work_type_Never_worked     18.000000\n",
      "1                     hypertension      9.417957\n",
      "2                    heart_disease      2.509804\n"
     ]
    }
   ],
   "source": [
    "X = X_train  #independent columns\n",
    "y = y_train   #target column i.e price range\n",
    "\n",
    "#apply SelectKBest class to extract top 10 best features\n",
    "bestfeatures = SelectKBest(score_func=chi2, k=10)\n",
    "fit = bestfeatures.fit(X, y)\n",
    "dfscores = pd.DataFrame(fit.scores_)\n",
    "dfcolumns = pd.DataFrame(X.columns)\n",
    "#concat two dataframes for better visualization \n",
    "featureScores = pd.concat([dfcolumns,dfscores],axis=1)\n",
    "featureScores.columns = ['Specs','Score']  #naming the dataframe columns\n",
    "print(featureScores.nlargest(20,'Score'))  #print 10 best features"
   ]
  },
  {
   "cell_type": "code",
   "execution_count": null,
   "id": "painted-emerald",
   "metadata": {},
   "outputs": [],
   "source": []
  }
 ],
 "metadata": {
  "kernelspec": {
   "display_name": "Python 3",
   "language": "python",
   "name": "python3"
  },
  "language_info": {
   "codemirror_mode": {
    "name": "ipython",
    "version": 3
   },
   "file_extension": ".py",
   "mimetype": "text/x-python",
   "name": "python",
   "nbconvert_exporter": "python",
   "pygments_lexer": "ipython3",
   "version": "3.8.8"
  }
 },
 "nbformat": 4,
 "nbformat_minor": 5
}
